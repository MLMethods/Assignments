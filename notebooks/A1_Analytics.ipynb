{
 "cells": [
  {
   "cell_type": "markdown",
   "metadata": {},
   "source": [
    "<div style=\"font-size:18pt; padding-top:20px; text-align:center\">ЗАДАНИЕ. <b>Индекс реальной зарплаты</b></div><hr>\n",
    "<div style=\"text-align:right;\">Папулин С.Ю. <span style=\"font-style: italic;font-weight: bold;\">(papulin.study@yandex.ru)</span></div>"
   ]
  },
  {
   "cell_type": "markdown",
   "metadata": {},
   "source": [
    "<a name=\"0\"></a>\n",
    "<div><span style=\"font-size:14pt; font-weight:bold\">Содержание</span>\n",
    "    <ol>\n",
    "        <li><a href=\"#1\">Расчет индекса реальной заработной платы</a></li>\n",
    "        <li><a href=\"#2\">Варианты</a></li>\n",
    "    </ol>\n",
    "</div>"
   ]
  },
  {
   "cell_type": "markdown",
   "metadata": {},
   "source": [
    "Подключение стилей оформления"
   ]
  },
  {
   "cell_type": "code",
   "execution_count": 1,
   "metadata": {},
   "outputs": [
    {
     "data": {
      "text/html": [
       "<link href=\"css/style.css\" rel=\"stylesheet\" type=\"text/css\">\n"
      ],
      "text/plain": [
       "<IPython.core.display.HTML object>"
      ]
     },
     "metadata": {},
     "output_type": "display_data"
    }
   ],
   "source": [
    "%%html\n",
    "<link href=\"css/style.css\" rel=\"stylesheet\" type=\"text/css\">"
   ]
  },
  {
   "cell_type": "markdown",
   "metadata": {},
   "source": [
    "<a name=\"1\"></a>\n",
    "<div style=\"display:table; width:100%; padding-top:10px; padding-bottom:10px; border-bottom:1px solid lightgrey\">\n",
    "    <div style=\"display:table-row\">\n",
    "        <div style=\"display:table-cell; width:80%; font-size:14pt; font-weight:bold\">1. Расчет индекса реальной заработной платы</div>\n",
    "    \t<div style=\"display:table-cell; width:20%; text-align:center; background-color:whitesmoke; border:1px solid lightgrey\"><a href=\"#0\">К содержанию</a></div>\n",
    "    </div>\n",
    "</div>"
   ]
  },
  {
   "cell_type": "markdown",
   "metadata": {},
   "source": [
    "<div class=\"msg-block msg-imp\">\n",
    "  <div class=\"msg-text-imp\">\n",
    "      <p>СРОК СДАЧИ: до <b>-</b></p>\n",
    "      <p style=\"margin:0px\">ПОСЛЕ СРОКА: первая неделя <b>-</b>, вторая неделя и далее до конца модуля <b>-</b>\n",
    "      </p>\n",
    "  </div>\n",
    "</div>"
   ]
  },
  {
   "cell_type": "markdown",
   "metadata": {},
   "source": [
    "<p>Среднемесячная начисленная заработная плата (руб.) - $НЗП$<br>\n",
    "Среднемесячная начисленная заработная плата базового периода (руб.) - $НЗПБ$<br>\n",
    "Индекс номинальной заработной платы (%) - $И_{НЗП,\\%}$<br>\n",
    "Индекс потребительских цен (%) - $И_{ПЦ,\\%}$<br>\n",
    "Индекс реальной заработной платы (%) - $И_{РЗП,\\%}$</p>"
   ]
  },
  {
   "cell_type": "markdown",
   "metadata": {},
   "source": [
    "$$И_{НЗП,\\%}=\\frac{НЗП}{НЗПБ}\\cdot 100 $$"
   ]
  },
  {
   "cell_type": "markdown",
   "metadata": {},
   "source": [
    "$$И_{РЗП,\\%}=\\frac{И_{НЗП}}{И_{ПЦ}} \\cdot 100$$"
   ]
  },
  {
   "cell_type": "markdown",
   "metadata": {},
   "source": [
    "<a href = \"http://www.gks.ru/bgd/free/b00_24/isswww.exe/stg/d000/i000101r.htm\">Аналитическая основа, концепции, определения и классификации</a><br>\n",
    "<a href = \"http://www.gks.ru/bgd/free/B00_24/IssWWW.exe/Stg/d000/I000050R.HTM\">Динамика среднемесячной номинальной и реальной начисленной заработной платы (2014, 2015)</a>\n",
    "\n"
   ]
  },
  {
   "cell_type": "markdown",
   "metadata": {},
   "source": [
    "<p><b>Пример</b> расчета $И_{РЗП}$ за 2014 год</p>"
   ]
  },
  {
   "cell_type": "markdown",
   "metadata": {},
   "source": [
    "$$НЗП_{2014} = 32495 руб.$$"
   ]
  },
  {
   "cell_type": "markdown",
   "metadata": {},
   "source": [
    "$$НЗПБ_{2013} = 29792 руб.$$"
   ]
  },
  {
   "cell_type": "markdown",
   "metadata": {},
   "source": [
    "$$И_{ПЦ,2014,\\%}=107.82$$"
   ]
  },
  {
   "cell_type": "markdown",
   "metadata": {},
   "source": [
    "$$И_{НЗП,2014,\\%}=\\frac{НЗП_{2014}}{НЗПБ_{2013}} \\cdot 100= 109.07$$"
   ]
  },
  {
   "cell_type": "markdown",
   "metadata": {},
   "source": [
    "$$И_{РЗП,2014}=\\frac{И_{НЗП,2014,\\%}}{И_{ПЦ,2014,\\%}}\\cdot 100=101.16$$"
   ]
  },
  {
   "cell_type": "markdown",
   "metadata": {},
   "source": [
    "Реальная заработная плата в 2014 году изменилась по отношению к 2013 году на \n",
    "$$\\bigtriangleup И_{РЗП,2014} = И_{РЗП,2014} - 100 = +1.16\\%$$"
   ]
  },
  {
   "cell_type": "code",
   "execution_count": null,
   "metadata": {},
   "outputs": [],
   "source": [
    "nom_salary_2014 = 32495\n",
    "nom_salary_base_2013 = 29792\n",
    "i_price_2014 = 107.82 / 100\n",
    "i_nom_salary = nom_salary_2014 / nom_salary_base_2013\n",
    "i_real_salary_2014 = i_nom_salary / i_price_2014 * 100\n",
    "dif = i_real_salary_2014 - 100\n",
    "dif"
   ]
  },
  {
   "cell_type": "markdown",
   "metadata": {},
   "source": [
    "<p><b>Подготовка</b></p>"
   ]
  },
  {
   "cell_type": "markdown",
   "metadata": {},
   "source": [
    "<p>Подключение пакета pandas</p>"
   ]
  },
  {
   "cell_type": "code",
   "execution_count": null,
   "metadata": {
    "collapsed": true
   },
   "outputs": [],
   "source": [
    "import pandas as pnd"
   ]
  },
  {
   "cell_type": "markdown",
   "metadata": {},
   "source": [
    "<p>Создание DataFrame из Excel файла</p>"
   ]
  },
  {
   "cell_type": "code",
   "execution_count": null,
   "metadata": {},
   "outputs": [],
   "source": [
    "filePath = r\"pathForExcelFile/YourFile.xls\"\n",
    "\n",
    "# Создание DataFrame из Excel файла\n",
    "# header=n - номер строка с названиями столбцов\n",
    "# skiprows=n - при чтении файла пропускаются первые n строк \n",
    "df = pnd.read_excel(filePath, header=1, skiprows=10)\n",
    "df"
   ]
  },
  {
   "cell_type": "markdown",
   "metadata": {},
   "source": [
    "<p>Набор данных</p>"
   ]
  },
  {
   "cell_type": "code",
   "execution_count": null,
   "metadata": {
    "collapsed": true
   },
   "outputs": [],
   "source": [
    "# V1_Index_Price_By_Year.xls - excel-файл с индексами потребительских цен\n",
    "# V1_Nom_Salary_By_Regions.xlsx -  excel-файл со среднемесячной начисленной заработной платой"
   ]
  },
  {
   "cell_type": "markdown",
   "metadata": {},
   "source": [
    "<p><b>Задача 1.</b> Найти индексы номинальной заработной платы, построить график изменения индекса в процентах (год-изменение индекса в %) </p>"
   ]
  },
  {
   "cell_type": "code",
   "execution_count": null,
   "metadata": {},
   "outputs": [],
   "source": [
    "# Структура вывода\n",
    "df_result_1 = pnd.DataFrame(\"Значение\", \n",
    "                            columns = [\"Индекс номинальной зарплаты\"], \n",
    "                            index = range(2003, 2015))\n",
    "\n",
    "df_result_1"
   ]
  },
  {
   "cell_type": "markdown",
   "metadata": {},
   "source": [
    "<p><b>Задача 2.</b> Построить график изменения индекса потребительских цен в процентах (год-изменение индекса в %) </p>"
   ]
  },
  {
   "cell_type": "code",
   "execution_count": null,
   "metadata": {},
   "outputs": [],
   "source": [
    "# Структура вывода\n",
    "df_result_2 = pnd.DataFrame(\"Значение\", \n",
    "                            columns = [\"Индекс реальной зарплаты\"], \n",
    "                            index = range(2003, 2015))\n",
    "\n",
    "df_result_2"
   ]
  },
  {
   "cell_type": "markdown",
   "metadata": {},
   "source": [
    "<div class=\"msg-block msg-info\">\n",
    "  <p class=\"msg-text-info\">В расчетах используйте следующий показатель: <i>период с начала отчетного года в % к соответствующему периоду предыдущего года </i></p>\n",
    "</div>"
   ]
  },
  {
   "cell_type": "markdown",
   "metadata": {},
   "source": [
    "<p><b>Задача 3.</b> Найти индексы реальной заработной платы, построить график изменения индекса в процентах (год-изменение индекса в %) </p>"
   ]
  },
  {
   "cell_type": "code",
   "execution_count": null,
   "metadata": {},
   "outputs": [],
   "source": [
    "# Структура вывода\n",
    "df_result_3 = pnd.DataFrame(\"Значение\", \n",
    "                            columns = [\"Индекс реальной зарплаты\"], \n",
    "                            index = range(2003, 2015))\n",
    "\n",
    "df_result_3"
   ]
  },
  {
   "cell_type": "markdown",
   "metadata": {},
   "source": [
    "<p><b>Задача 4.</b> Отобразить все три индекса на одном графике</p>"
   ]
  },
  {
   "cell_type": "code",
   "execution_count": null,
   "metadata": {},
   "outputs": [],
   "source": [
    "# Структура вывода\n",
    "df_result_4 = pnd.DataFrame(\"Значение\", \n",
    "                            columns = [\"Индекс номинальной зарплаты\", \n",
    "                                       \"Индекс потребительских цен\", \n",
    "                                       \"Индекс реальной зарплаты\"], \n",
    "                            index = range(2003, 2015))\n",
    "\n",
    "df_result_4"
   ]
  },
  {
   "cell_type": "markdown",
   "metadata": {},
   "source": [
    "<a name=\"2\"></a>\n",
    "<div style=\"display:table; width:100%; padding-top:10px; padding-bottom:10px; border-bottom:1px solid lightgrey\">\n",
    "    <div style=\"display:table-row\">\n",
    "        <div style=\"display:table-cell; width:80%; font-size:14pt; font-weight:bold\">2. Варианты</div>\n",
    "    \t<div style=\"display:table-cell; width:20%; text-align:center; background-color:whitesmoke; border:1px solid lightgrey\"><a href=\"#0\">К содержанию</a></div>\n",
    "    </div>\n",
    "</div>"
   ]
  },
  {
   "cell_type": "markdown",
   "metadata": {},
   "source": [
    "<p>Чтобы узнать свой вариант, введите Вашу фамилию в соответствующее поле ниже и запустите ячейку:</p>"
   ]
  },
  {
   "cell_type": "code",
   "execution_count": null,
   "metadata": {},
   "outputs": [],
   "source": [
    "surname = \"Иванов\"  # Ваша фамилия\n",
    "\n",
    "alph = 'абвгдеёжзийклмнопрстуфхцчшщъыьэюя'\n",
    "w = [6, 31, 38, 29, 29, 20, 16,  4, 34,  3, 39, 33, 36, 33, 20,  3, 22,\n",
    "       31,  3, 34, 16, 25, 25, 25, 23, 13, 35, 19, 20, 26, 34, 39,  8]\n",
    "d = dict(zip(alph, w))\n",
    "variant =  sum([d[el] for el in surname.lower()]) % 9 + 1\n",
    "print(\"Ваш вариант - \", variant)"
   ]
  },
  {
   "cell_type": "markdown",
   "metadata": {
    "collapsed": true
   },
   "source": [
    "<p>Задание необходимо выполнить в соответствии с вариантом. Соотнесение вариантов и округов, субъектов РФ для расчета следующее:<br>\n",
    "<ol>\n",
    "<li>Российская Федерация</li>\n",
    "<li>Центральный федеральный округ</li>\n",
    "<li>г.Москва</li>\n",
    "<li>Северо-Западный федеральный округ</li>\n",
    "<li>Северо-Кавказский федеральный округ</li>\n",
    "<li>Приволжский федеральный округ</li>\n",
    "<li>Ханты-Мансийский автономный округ-Югра</li>\n",
    "<li>Сибирский федеральный округ</li>\n",
    "<li>Дальневосточный федеральный округ</li>\n",
    "</ol>\n",
    "</p>"
   ]
  },
  {
   "cell_type": "code",
   "execution_count": null,
   "metadata": {
    "collapsed": true
   },
   "outputs": [],
   "source": []
  }
 ],
 "metadata": {
  "kernelspec": {
   "display_name": "Python 3",
   "language": "python",
   "name": "python3"
  },
  "language_info": {
   "codemirror_mode": {
    "name": "ipython",
    "version": 3
   },
   "file_extension": ".py",
   "mimetype": "text/x-python",
   "name": "python",
   "nbconvert_exporter": "python",
   "pygments_lexer": "ipython3",
   "version": "3.7.4"
  }
 },
 "nbformat": 4,
 "nbformat_minor": 1
}
